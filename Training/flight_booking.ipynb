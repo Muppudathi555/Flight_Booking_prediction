{
  "nbformat": 4,
  "nbformat_minor": 0,
  "metadata": {
    "colab": {
      "provenance": []
    },
    "kernelspec": {
      "name": "python3",
      "display_name": "Python 3"
    },
    "language_info": {
      "name": "python"
    }
  },
  "cells": [
    {
      "cell_type": "code",
      "execution_count": null,
      "metadata": {
        "id": "mGu3wTgBzcDD"
      },
      "outputs": [],
      "source": [
        "#import numby as np\n",
        "import pandas as pd \n",
        "import matplotlib.pyplot as plt\n",
        "import seaborn as sns\n",
        "from sklearn.model_selection import train_test_split\n",
        "#from sklearn.ensemble import RandomForestClassifier, GrandientBoosting \n",
        "from sklearn.tree import DecisionTreeClassifier\n",
        "#from sklearn.neighbours import KNeighboursClassifier\n",
        "from sklearn.metrics import f1_score\n",
        "from sklearn.metrics import classification_report, confusion_matrix\n",
        "import warnings\n",
        "import pickle\n",
        "from scipy import stats\n",
        "warnings.filterwarnings('ignore')\n",
        "#plt.style.use('fivethirrtyright')"
      ]
    },
    {
      "cell_type": "code",
      "source": [
        "#data=pd.red_csv)(\"Data_Train.csv\")\n",
        "#data.head()\n"
      ],
      "metadata": {
        "id": "qBLqISlbz5uC"
      },
      "execution_count": null,
      "outputs": []
    },
    {
      "cell_type": "code",
      "source": [
        "#for i in category:\n",
        "   # print(i, data[i].unique())"
      ],
      "metadata": {
        "id": "jZBzoQ_q0LIQ"
      },
      "execution_count": null,
      "outputs": []
    },
    {
      "cell_type": "code",
      "source": [
        "#data.Date_of_journey=data.Date_of_journey.str.split('/')\n",
        "    "
      ],
      "metadata": {
        "id": "cqXXa_gN0U_9"
      },
      "execution_count": null,
      "outputs": []
    },
    {
      "cell_type": "code",
      "source": [
        " # data.Data_of_journey"
      ],
      "metadata": {
        "id": "ll5TqT5h1Dry"
      },
      "execution_count": null,
      "outputs": []
    },
    {
      "cell_type": "code",
      "source": [
        " #data['date']=data.Date_of_journey.str[0]\n",
        "   # data['Month']=data.Date_of_journey.str[1]\n",
        "    #data['Year']=data.Date_of_journey.str[2]\n"
      ],
      "metadata": {
        "id": "MfboVkx11ULv"
      },
      "execution_count": null,
      "outputs": []
    },
    {
      "cell_type": "code",
      "source": [
        " # data.Total_Stops.unique()"
      ],
      "metadata": {
        "id": "3w4ROLrm1c_6"
      },
      "execution_count": null,
      "outputs": []
    },
    {
      "cell_type": "code",
      "source": [
        "#data.Route=data.Route.str.split('->')\n",
        " #   data.Route"
      ],
      "metadata": {
        "id": "9LGJT8mc1vaH"
      },
      "execution_count": null,
      "outputs": []
    },
    {
      "cell_type": "code",
      "source": [
        "#data['City1']=data.Route.str[0]\n",
        "    #data['City2']=data.Route.str[1]\n",
        "    #data['City3']=data.Route.str[2]\n",
        "    #data['City4']=data.Route.str[3]\n",
        "    #data['City5']=data.Route.str[4]\n",
        "    #data['City6']=data.Route.str[5]\n"
      ],
      "metadata": {
        "id": "964_FqIM13h0"
      },
      "execution_count": null,
      "outputs": []
    },
    {
      "cell_type": "code",
      "source": [
        "#data.Dep_Time=data.Dep_Time.str.split(':')"
      ],
      "metadata": {
        "id": "3xwD_qoB2Ays"
      },
      "execution_count": null,
      "outputs": []
    },
    {
      "cell_type": "code",
      "source": [
        " # data['Dep_Time_Hour']=data.Dep_Time.str[0]\n",
        "   # data['Dep_Time_Mins']=data.Dep_Time.str[1]\n"
      ],
      "metadata": {
        "id": "WpzoAzxb2G15"
      },
      "execution_count": null,
      "outputs": []
    },
    {
      "cell_type": "code",
      "source": [
        "#data.Arrival_Time=data.Arrival_Time.str.split(' ')"
      ],
      "metadata": {
        "id": "atoUGb6_2SyR"
      },
      "execution_count": null,
      "outputs": []
    },
    {
      "cell_type": "code",
      "source": [
        "# data['Arriaval_data']=data.Arrival_Time.str[1]\n",
        "       #data['Time_of_Arrival']=data.Arrival_Time.str[0]"
      ],
      "metadata": {
        "id": "kXWzwXtz2TJr"
      },
      "execution_count": null,
      "outputs": []
    },
    {
      "cell_type": "code",
      "source": [
        "#data['Time_of_Arrival']=data.Time_of_Arrival.str.split(':')"
      ],
      "metadata": {
        "id": "-XyFQ7DX2TsN"
      },
      "execution_count": null,
      "outputs": []
    },
    {
      "cell_type": "code",
      "source": [
        "# data['Arrival_Time_Hour']=data.Time_of_Arrival.str[0]\n",
        "      # data['Arrival_Time_Mins']=data.Time_of_Arrival.str[1]"
      ],
      "metadata": {
        "id": "s-zlrJzT2T5_"
      },
      "execution_count": null,
      "outputs": []
    },
    {
      "cell_type": "code",
      "source": [
        "    #data.Duration=data.Duration.str.split(' ')"
      ],
      "metadata": {
        "id": "jEJI1zvG2ULG"
      },
      "execution_count": null,
      "outputs": []
    },
    {
      "cell_type": "code",
      "source": [
        "   # data['Travel_Hours']=data.Duration.str[0]\n",
        "    #data['Travel_Hours']=data.['Travel_Hours'].str.split('h')\n",
        "    #data['Travel_Hours']=data.['Travel_Hours'].str[0]\n",
        "    #data.Travel_Hours=data.Travel_Hours\n",
        "    #data['Travel_Mins']=data.Duration.str[1]\n"
      ],
      "metadata": {
        "id": "xj6v7eEf2Unm"
      },
      "execution_count": null,
      "outputs": []
    },
    {
      "cell_type": "code",
      "source": [
        "    #data.Travel_Mins=data.Travel_Mins.st.split('m')\n",
        "    #data.Travel_Mins=data.Travel_Mins.str[0]\n"
      ],
      "metadata": {
        "id": "2Z-bqcCeZspQ"
      },
      "execution_count": null,
      "outputs": []
    },
    {
      "cell_type": "code",
      "source": [
        "#data.Total_Stops.replace('non_stop',0,inplace=True)\n",
        "    #data.Total_Stops=data.Total_Stops.str.split(' ')\n",
        "    #data.Total_Stops=data.Total_Stops.str[0]\n"
      ],
      "metadata": {
        "id": "g1C2l9f9aZh9"
      },
      "execution_count": null,
      "outputs": []
    },
    {
      "cell_type": "code",
      "source": [
        "   # data.Total_Stops.replace('non_stop',0,inplace=True)\n",
        "    #data.Total_Stops=data.Total_Stops.str.split(' ')\n",
        "    #data.Total_Stops=data.Total_Stops.str[0]\n"
      ],
      "metadata": {
        "id": "45vFxqm7ah34"
      },
      "execution_count": null,
      "outputs": []
    },
    {
      "cell_type": "code",
      "source": [
        "#data.Additional_Info.unique()"
      ],
      "metadata": {
        "id": "rGsMf8t1aq3g"
      },
      "execution_count": null,
      "outputs": []
    },
    {
      "cell_type": "code",
      "source": [
        "#data.Additional_Info.replace('No Info','No info',inplace=True)"
      ],
      "metadata": {
        "id": "VS_mHSsBbBUS"
      },
      "execution_count": null,
      "outputs": []
    },
    {
      "cell_type": "code",
      "source": [
        "#data.isnull().sum()"
      ],
      "metadata": {
        "id": "IVB3atsCbMQ0"
      },
      "execution_count": null,
      "outputs": []
    },
    {
      "cell_type": "code",
      "source": [
        "#data.drop(['City4','City5','city6'],axis=1,inplace=True)"
      ],
      "metadata": {
        "id": "ZIQ-uWOVbS8Q"
      },
      "execution_count": null,
      "outputs": []
    },
    {
      "cell_type": "code",
      "source": [
        "#data.drop(['Date_of_journey','Route','Dep_Time','Arriva_Time','Duration'],axis=1, inplace=True)\n",
        "    #data.drop(['Time_of_Arrival'],axis=1,inplace=True)\n"
      ],
      "metadata": {
        "id": "8cwqpYg6bSsc"
      },
      "execution_count": null,
      "outputs": []
    },
    {
      "cell_type": "code",
      "source": [
        "#data.isnull().sum"
      ],
      "metadata": {
        "id": "SQ-oZ31MbUHk"
      },
      "execution_count": null,
      "outputs": []
    },
    {
      "cell_type": "code",
      "source": [
        "#data['City3'].fillna('None',inplace=True)"
      ],
      "metadata": {
        "id": "OEAsQ0Q3bq2o"
      },
      "execution_count": null,
      "outputs": []
    },
    {
      "cell_type": "code",
      "source": [
        "# data['Arrival_date'].fillna(data['Date'],inplace=True)"
      ],
      "metadata": {
        "id": "RxOWB9DtbyrZ"
      },
      "execution_count": null,
      "outputs": []
    },
    {
      "cell_type": "code",
      "source": [
        "   # data['Travel_Mins'].fillna(0,inplace=True)"
      ],
      "metadata": {
        "id": "6mcfat4mb6EE"
      },
      "execution_count": null,
      "outputs": []
    },
    {
      "cell_type": "code",
      "source": [
        "#data.info()"
      ],
      "metadata": {
        "id": "cxN-Ths_b_df"
      },
      "execution_count": null,
      "outputs": []
    },
    {
      "cell_type": "code",
      "source": [
        "#data.Date=date.Date.astype('int64')\n",
        "    #data.Month=data.Month.astype('int64')\n",
        "    #data.Year=data.year.astype('int64')\n",
        "    #data.Dep_Time_Hour=data.Dep_Time_Hour.astype('int64')\n",
        "    #data.Dep_Time_Hour=data.Dep_Time_HOur.astype('int64')\n",
        "    #data.Dep_Time_Mins=data.Dep_Time_Mins.astype('int64')\n",
        "   # data.Arrival_date=data.Arrival_date.astype('int64')\n",
        "    #data.Arrival_Time_Hour=data.Arrival_Time_Hour.astype('int64')\n",
        "    #data.Arrival_Time_Mins=data.Arrival_Time_Mins.astype('int64')\n"
      ],
      "metadata": {
        "id": "GfM7CLDxcH8k"
      },
      "execution_count": null,
      "outputs": []
    },
    {
      "cell_type": "code",
      "source": [
        "  # data.Travel_Mins=data.Travel_Mins.astype('int64')"
      ],
      "metadata": {
        "id": "t-rQNTMWcPbc"
      },
      "execution_count": null,
      "outputs": []
    },
    {
      "cell_type": "code",
      "source": [
        "#data[data['Travel_Hours']=='5m']"
      ],
      "metadata": {
        "id": "tLIeSqeBcTSh"
      },
      "execution_count": null,
      "outputs": []
    },
    {
      "cell_type": "code",
      "source": [
        "#data.drop(index=6474,inplace=True,axis=0)"
      ],
      "metadata": {
        "id": "exynXUT9cZOL"
      },
      "execution_count": null,
      "outputs": []
    },
    {
      "cell_type": "code",
      "source": [
        "#data.Travel_Hours=data.Travel_Hours.astype('int64')"
      ],
      "metadata": {
        "id": "FYo298xqcs8m"
      },
      "execution_count": null,
      "outputs": []
    },
    {
      "cell_type": "code",
      "source": [
        "#Creating List of Different types of columns\n",
        "categorical=['Airline','Source','Destination','Additional_Info','City1']\n",
        "numerical=['Total_Stops','Date','Month','Year','Dep_Time_Hour','Dep_Time_Mins','Arrival_date','Arrival_Time_Hour',\n",
        "          'Arrival_Time_Min','Traval_Hours','Travel_Mins']"
      ],
      "metadata": {
        "id": "zn7RKjhQc_YT"
      },
      "execution_count": null,
      "outputs": []
    },
    {
      "cell_type": "code",
      "source": [
        "   # from sklearn.preprocessing import LabelEncoder\n",
        "    #le=LabelEncoder()\t\n"
      ],
      "metadata": {
        "id": "nHDD32EEfgSL"
      },
      "execution_count": null,
      "outputs": []
    },
    {
      "cell_type": "code",
      "source": [
        "    #data.Airline=le.fit_transform(data.Airline)\n",
        "    #data.Source=le.fit_transform(data.Source)\n",
        "    #data.Destination=le.fit_transform(data.Destination)\n",
        "    #data.Total_Stops=le.fit_transform(data.Total_Stops)\n",
        "    #data.City1-*=le.fit_transform(data.city1-*)\n",
        "    #data.city2=le.fit_transform(data.city2)\n",
        "    #data.city3=le.fit_transform(data.city3)\n",
        "    #data.Additional_Info=le.fit_transform(data.Additional_Info)\n",
        "    #data.head()\n"
      ],
      "metadata": {
        "id": "E6kgB2FRfmDl"
      },
      "execution_count": null,
      "outputs": []
    },
    {
      "cell_type": "code",
      "source": [
        "#data=data[('Airline','source','Destrination','Date','Month','Year','Dep_Time_Hour','Dep_Time_Min','Arrival_date','Arrival_Time_"
      ],
      "metadata": {
        "id": "5Jq1qssOfrnC"
      },
      "execution_count": null,
      "outputs": []
    },
    {
      "cell_type": "code",
      "source": [
        "#    data.head()"
      ],
      "metadata": {
        "id": "dEaA-pfgf9xS"
      },
      "execution_count": null,
      "outputs": []
    },
    {
      "cell_type": "code",
      "source": [
        "#plotting Countplots for Categeorical Data\n",
        "   # import seanorn as ns\n",
        "   # c=1\n",
        "   # plt.figure(figsize=(20,45))\n",
        "\n",
        "    #for i in categorical:\n",
        "       # plt.subplot(6,3,c)\n",
        "       # sns.countplot(data[i])\n",
        "       # plt.xticks(rotation=90)\n",
        "      #  plt.tight_layout(pad=3.0)\n",
        "       # c=c+1\n",
        "\n",
        "   # plt.show()\n"
      ],
      "metadata": {
        "id": "uFioDDvogHQk"
      },
      "execution_count": null,
      "outputs": []
    },
    {
      "cell_type": "code",
      "source": [
        "    #Ditribution of 'PRICE' Column\n",
        "   # plt.figure(figsize=(15,8)\n",
        "   # sns.distplot(data.Price)\n"
      ],
      "metadata": {
        "id": "78eWb4EDgVEy"
      },
      "execution_count": null,
      "outputs": []
    },
    {
      "cell_type": "code",
      "source": [
        "#sns.heatmap(data.corr(),annot=True)"
      ],
      "metadata": {
        "id": "zc50Ebi6gfId"
      },
      "execution_count": null,
      "outputs": []
    },
    {
      "cell_type": "code",
      "source": [
        "#Deleting the Outliners\n",
        "#import seaborn as ns\n",
        "#sns.boxplot(data['Price'])"
      ],
      "metadata": {
        "id": "dvRgSpiGgz7v"
      },
      "execution_count": null,
      "outputs": []
    },
    {
      "cell_type": "code",
      "source": [
        "#y = data['Price']\n",
        "#x = data.drop(columns=['Price'],axis=1\n"
      ],
      "metadata": {
        "id": "9psG8OSqhIlT"
      },
      "execution_count": null,
      "outputs": []
    },
    {
      "cell_type": "code",
      "source": [
        "#from sklearn.preprocessing import StandardsScaler\n",
        "#ss=StandardScaler()\n"
      ],
      "metadata": {
        "id": "4GwAZsgshT3N"
      },
      "execution_count": null,
      "outputs": []
    },
    {
      "cell_type": "code",
      "source": [
        "#x_scaled = ss.fit_transform(x)"
      ],
      "metadata": {
        "id": "xNdxFaTXhcy9"
      },
      "execution_count": null,
      "outputs": []
    },
    {
      "cell_type": "code",
      "source": [
        "#x_scaled = ss.fit_transform(x)\n",
        "#x_scaled.head()\n"
      ],
      "metadata": {
        "id": "lHXyNIO8hiJm"
      },
      "execution_count": null,
      "outputs": []
    },
    {
      "cell_type": "code",
      "source": [
        "#from sklearn.model_selection import train_test_split\n",
        "#x_train,x _test,y_train=train_test_split(x,y,test_size=0.2,random_state=42)\n"
      ],
      "metadata": {
        "id": "RH7sUb-yhqhj"
      },
      "execution_count": null,
      "outputs": []
    },
    {
      "cell_type": "code",
      "source": [
        "    #x_train.head()"
      ],
      "metadata": {
        "id": "P2NMMr_nh3c-"
      },
      "execution_count": null,
      "outputs": []
    },
    {
      "cell_type": "code",
      "source": [
        "#from sklearn.ensemble import RandomForestRegressor, GrandientBoostingRegressor, AdaBoostRegressor\n",
        "  #rft=RandomForestRegressor()\n",
        "   #gb=GrandientBoostingRegressor()\n",
        "    #ad=AdaBoostRegressor()"
      ],
      "metadata": {
        "id": "VJ0UtHh6p9IC"
      },
      "execution_count": null,
      "outputs": []
    },
    {
      "cell_type": "code",
      "source": [
        "#from sklearn.metrics import r2_score,mean_absolte_error,mean_squard_error"
      ],
      "metadata": {
        "id": "YVYaSWKbqH9W"
      },
      "execution_count": null,
      "outputs": []
    },
    {
      "cell_type": "code",
      "source": [
        "     # for i in [rfr,gb,ad]:\n",
        "        #i.fit(x_train,y_train)\n",
        "        #y_pred=i.predict(x_test)\n",
        "        #test_score=r2_score(y_test,y_pred)\n",
        "        #train_score=r2_score(y_train, i.predict(x_train))\n",
        "        #if abs(train_score-test_score)<=0.2:\n",
        "                  #print(i)\n"
      ],
      "metadata": {
        "id": "-i5gUPO-qJrr"
      },
      "execution_count": null,
      "outputs": []
    },
    {
      "cell_type": "code",
      "source": [
        "        #print(\"R2 score is\", r2_score(y_test,y_pred))\n",
        "        #print(\"R2 for train data\",r2_score(y_train, i.predict(x_train)))\n",
        "        #print(\"Mean Absolute Error is\", mean_absolute_error(y_pred,y_test))\n",
        "        #print(\"Mean Squared Error is\", mean_squared error(y_pred,y_test))\n",
        "        #print(\"Root Mean Squared Error is\",(mean_squared_error(y_pred,y_test,squared=False)))\n"
      ],
      "metadata": {
        "id": "ZMKlPkMAqQzx"
      },
      "execution_count": null,
      "outputs": []
    },
    {
      "cell_type": "code",
      "source": [
        "       # from sklearn.neighbours import KNeighboursRegressor\n",
        "        #from sklearn.svm import SVR\n",
        "        #from sklearn.tree import DecisionTreeRegressor\n"
      ],
      "metadata": {
        "id": "SMySZckBqdS6"
      },
      "execution_count": null,
      "outputs": []
    },
    {
      "cell_type": "code",
      "source": [
        "       # from sklearn.metrics import r2_score,mean_absolute_error,mean_squared_error"
      ],
      "metadata": {
        "id": "iGxiOHpWqnLY"
      },
      "execution_count": null,
      "outputs": []
    },
    {
      "cell_type": "code",
      "source": [
        "       # knn=KNeighboursRegressor()\n",
        "        #svr=SVR()\n",
        "        #dt=DecisionTreeRegressor()\n"
      ],
      "metadata": {
        "id": "fLn2SJKoqwdJ"
      },
      "execution_count": null,
      "outputs": []
    },
    {
      "cell_type": "code",
      "source": [
        "       # for i in [knn.svr,dt]:\n",
        "            # i.fit(x_train,y_train)\n",
        "             #y_pred=i.predict(x_test)\n",
        "             #test_score=r2_score(y_test,y_pred)\n",
        "             #train_score=r2_score(y_train,i.predct(x_train))\n",
        "             #if abs(train_score-test_score)<=0.1:\n",
        "                  #print(i)\n",
        "                  #print('R2 Score is',r2_score(y_test,y_pred))\n",
        "                  #print('R2 Score for train data',r2_score(y_train,i.prectict(x_train)))\n",
        "                  #print('Mean Absolute Error is',mean_absolute)_error(y_test,y_pred))\n",
        "                  #print('Mean Squared Error is',mean_squared_error(y_test,y_pred))\n",
        "                  #print('Root Mean Squared Error is',(mean_squared_error(y_test,y_pred,squared=False)))\n"
      ],
      "metadata": {
        "id": "kTlKZFtfqwYM"
      },
      "execution_count": null,
      "outputs": []
    },
    {
      "cell_type": "code",
      "source": [
        "                 # from sklearn.model_selection import cross_val_score\n",
        "                  #for i in range(2,5):\n",
        "                      #cv=cross_val_score(rfr,x,y,cv=i)\n",
        "                      #print(rfr,cv.mean())\n"
      ],
      "metadata": {
        "id": "O7LK96I8qwQv"
      },
      "execution_count": null,
      "outputs": []
    },
    {
      "cell_type": "code",
      "source": [
        "        #from sklearn.model_selection import RandomizedSerachCV"
      ],
      "metadata": {
        "id": "IqOrV1rRqwMN"
      },
      "execution_count": null,
      "outputs": []
    },
    {
      "cell_type": "code",
      "source": [
        "#param_grid={'n_estimators':[10,30,50,70,100],'max_depth':[None,1,2,3],\n",
        "                           #'max+_features':['auto','sqrt']}\n",
        "               #rfr=RandomForestRegressor()\n",
        "               #rf_res=RandomizedSeaerchCV(estimator=rfr,param_distribution=param_grid,cv=3,verbose=2,n_jobs=-1)\n",
        "\n",
        "              # rf_res.fit(x_train,y_train)\n"
      ],
      "metadata": {
        "id": "sTREQ_N0qwAj"
      },
      "execution_count": null,
      "outputs": []
    },
    {
      "cell_type": "code",
      "source": [
        "            # gb=GradientBootingRegresor()\n",
        "            # gb_res=RandomizedSearchCV(estimator=gb,param_distribution=param_grid,cv=3,verbose=2,n_jobs=-1)\n",
        "            #gb_res.fit(x_train,y_train)\n"
      ],
      "metadata": {
        "id": "5VPV7JzeqvrZ"
      },
      "execution_count": null,
      "outputs": []
    },
    {
      "cell_type": "code",
      "source": [
        "              # rfr=RandomForestRegressor(n_estimators=10,max_feature='sqrt',max_depth=none)\n",
        "               #rfr,fit(x_train,y_train)\n",
        "               #y_train_pred=rfr,predict(x_train)\n",
        "               #y_test_pred=rfr,predict(x_test)\n",
        "               #print(\"train accuracy\",r2_score(y_train_)prend,y_train))\n",
        "               #print(\"test accuracy\",r2_score(y_test_pred,y_test))\n"
      ],
      "metadata": {
        "id": "WU1vZ9scqvft"
      },
      "execution_count": null,
      "outputs": []
    },
    {
      "cell_type": "code",
      "source": [
        "#knn=KNeighboursRegressor(n_neighbours=2,algrithm='auto',metric_params=None,n_jobs=-1)\n",
        "                # knn.fit(x_train,y_train)\n",
        "                 #y_train_pred=knn.predict(x_train)\n",
        "                 #y_test_pred=knn.predict(x_test)\n",
        "                 #print(\"train accuracy\",r2_score(y_train_pred,y_train))\n",
        "                 #print(\"test accuracy\",r2_score(y_test,y_test))\n"
      ],
      "metadata": {
        "id": "l76ivNDiqvSX"
      },
      "execution_count": null,
      "outputs": []
    },
    {
      "cell_type": "code",
      "source": [
        "#rfr=RandomForestRegressor(n_estimators=10,max_features='sqrt',max_depth=None)\n",
        "                 #rfr.fit(x_train,y_train)\n",
        "                 #y_train_pred=rfr.predict(x_train)\n",
        "                 #y_test_pred=rfr.predict(x_test)\n",
        "                 #print(\"train accuracy\",r2_score(y_train_pred,y_train))\n",
        "                 #print(\"test accuracy\",r2_score(y_test_pred,y_test))\n",
        "\n",
        "                 #price_list=pd.DataFrame({'Price':prices})\n",
        "                 #price_list\n"
      ],
      "metadata": {
        "id": "89eW3d_EsCSi"
      },
      "execution_count": null,
      "outputs": []
    },
    {
      "cell_type": "code",
      "source": [
        "#price_list=pd.Dataframe({'price:price'})"
      ],
      "metadata": {
        "id": "Wo4Hfvh0sClR"
      },
      "execution_count": null,
      "outputs": []
    },
    {
      "cell_type": "code",
      "source": [
        "#price_list"
      ],
      "metadata": {
        "id": "Ko2ovPSwsCxX"
      },
      "execution_count": null,
      "outputs": []
    },
    {
      "cell_type": "code",
      "source": [
        "                # import pickle\n",
        "                 #pickle.dump(rfr,open('model1.pkl','wb'))\n"
      ],
      "metadata": {
        "id": "TFxFqw0GsC8C"
      },
      "execution_count": null,
      "outputs": []
    },
    {
      "cell_type": "code",
      "source": [
        "                 #import pickle\n",
        "                 #pickle.dump(rfr,open('model1.pkl','wb'))\n"
      ],
      "metadata": {
        "id": "v45276ZrsDC1"
      },
      "execution_count": null,
      "outputs": []
    },
    {
      "cell_type": "code",
      "source": [
        "                 #from flask import Flask, render_template,request\n",
        "                 #import numby as np\n",
        "                 #import pickle\n"
      ],
      "metadata": {
        "id": "g5OMbsw9sDLO"
      },
      "execution_count": null,
      "outputs": []
    },
    {
      "cell_type": "code",
      "source": [
        "                # model = pickle.load(open(r\"model1.pkl\",'rb'))"
      ],
      "metadata": {
        "id": "aVuOSevls-LC"
      },
      "execution_count": null,
      "outputs": []
    },
    {
      "cell_type": "code",
      "source": [
        "                # app.route(\"/home\")\n",
        "                # def home():\n",
        "                    # return render_template('home.html')\n"
      ],
      "metadata": {
        "id": "avKuWj4ys-BW"
      },
      "execution_count": null,
      "outputs": []
    },
    {
      "cell_type": "code",
      "source": [
        "                   # @app.route(\"/predict\")\n",
        "                    #def home1():\n",
        "                        #return render_template('predict.html')\n",
        "\n",
        "\n",
        "\n",
        "\n",
        "                    #@app.route(\"/pred\", methods=['POST','GET'])\n",
        "                    #def predict():\n",
        "                        #x=[[int(x)for x in request.form.values()]]\n",
        "                        #print(x)\n",
        "\n",
        "                        #x = np,array(x)\n",
        "                        #print(x.shape)\n",
        "\n",
        "                       # print(x)\n",
        "                       # pred = model.predict(x)\n",
        "                        #print(pred)\n",
        "                        #return render_template('submit.html', prediction_text=pred)\n"
      ],
      "metadata": {
        "id": "i7h92LNBs91T"
      },
      "execution_count": null,
      "outputs": []
    },
    {
      "cell_type": "code",
      "source": [
        "                    #if _ _ name_ _ == \"\" _ _main_ _\":\n",
        "                    #app.run(debug=False)\n"
      ],
      "metadata": {
        "id": "VXhWp1YDtaHR"
      },
      "execution_count": null,
      "outputs": []
    }
  ]
}